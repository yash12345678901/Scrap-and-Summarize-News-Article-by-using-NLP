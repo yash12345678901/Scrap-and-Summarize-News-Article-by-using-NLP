{
 "cells": [
  {
   "cell_type": "code",
   "execution_count": 1,
   "metadata": {},
   "outputs": [],
   "source": [
    "# Description: Ths program scrapes and summerize news articles\n",
    "\n",
    "# Import the libraries\n",
    "import nltk\n",
    "from newspaper import Article"
   ]
  },
  {
   "cell_type": "code",
   "execution_count": 2,
   "metadata": {},
   "outputs": [],
   "source": [
    "# Get the article\n",
    "url = 'https://www.washingtonpost.com/health/indoor-sports-covid-risk/2020/11/27/4ff75c9e-2e8e-11eb-bae0-50bb17126614_story.html'\n",
    "article = Article(url)"
   ]
  },
  {
   "cell_type": "code",
   "execution_count": 3,
   "metadata": {},
   "outputs": [
    {
     "name": "stderr",
     "output_type": "stream",
     "text": [
      "[nltk_data] Downloading package punkt to C:\\Users\\Yash\n",
      "[nltk_data]     Kumar\\AppData\\Roaming\\nltk_data...\n",
      "[nltk_data]   Unzipping tokenizers\\punkt.zip.\n"
     ]
    }
   ],
   "source": [
    "# Do some NLP\n",
    "article.download()\n",
    "article.parse()\n",
    "nltk.download('punkt')\n",
    "article.nlp()"
   ]
  },
  {
   "cell_type": "code",
   "execution_count": 4,
   "metadata": {},
   "outputs": [
    {
     "data": {
      "text/plain": [
       "['Emily Sohn']"
      ]
     },
     "execution_count": 4,
     "metadata": {},
     "output_type": "execute_result"
    }
   ],
   "source": [
    "# Get the auther\n",
    "article.authors"
   ]
  },
  {
   "cell_type": "code",
   "execution_count": 5,
   "metadata": {},
   "outputs": [
    {
     "data": {
      "text/plain": [
       "datetime.datetime(2020, 11, 27, 0, 0)"
      ]
     },
     "execution_count": 5,
     "metadata": {},
     "output_type": "execute_result"
    }
   ],
   "source": [
    "# Get the publish date\n",
    "article.publish_date"
   ]
  },
  {
   "cell_type": "code",
   "execution_count": 6,
   "metadata": {},
   "outputs": [
    {
     "data": {
      "text/plain": [
       "'https://www.washingtonpost.com/wp-apps/imrs.php?src=https://arc-anglerfish-washpost-prod-washpost.s3.amazonaws.com/public/LATQU2BOZ4I6XHOWFUAXTGAXDE.jpg&w=1440'"
      ]
     },
     "execution_count": 6,
     "metadata": {},
     "output_type": "execute_result"
    }
   ],
   "source": [
    "# Get the top image of the article\n",
    "article.top_image"
   ]
  },
  {
   "cell_type": "code",
   "execution_count": 7,
   "metadata": {},
   "outputs": [
    {
     "name": "stdout",
     "output_type": "stream",
     "text": [
      "As with everything related to covid-19, the disease caused by the coronavirus, the illness is too new for there to be much data yet on such specific questions. And with rapid spread of the virus throughout the country, some regions have taken action to prevent people from exercising indoors at all. Minnesota, where I live, is on a four-week “pause” that has closed fitness centers and put organized sports on hold.\n",
      "\n",
      "Where indoors sports are allowed, experts say that parents can assess risk based on knowledge of how the virus spreads, along with studies that investigate transmission of other infectious diseases through athletic events. Factors to consider include ventilation, number and proximity of players, adherence to mask-wearing and community rates of infection.\n",
      "\n",
      "AD\n",
      "\n",
      "AD\n",
      "\n",
      "When possible, consider playing outside, says Cordelia Carter, an orthopedic surgeon and co-director of the Center for Young Athletes at NYU Langone Health in New York. “The best indoor sport is an outdoor sport,” she says.\n",
      "\n",
      "But even outdoor sports carry risks. Although the data are limited, covid-19 has been associated with a number of sporting events and venues, including a recreational ice hockey game in Florida and a squash facility in Slovenia.\n",
      "\n",
      "In Minnesota, health officials recently announced that at least 10 percent of cases in schools in the state were associated with sports. Overall, the state health commissioner reported 46 outbreaks related to hockey, 41 associated with volleyball, 35 for football, 20 for basketball and 15 for soccer.\n",
      "\n",
      "AD\n",
      "\n",
      "When considering whether to play sports indoors this winter (if they are still happening), one factor to consider is ventilation. It’s not enough to open a single window or put on a fan, says Paul Francisco, an indoor air researcher at Colorado State University in Fort Collins and the University of Illinois at Urbana-Champaign. He has been studying how contaminants, including infectious pathogens, move through air and how various types of ventilation affect the potential for exposure to airborne contaminants.\n",
      "\n",
      "AD\n",
      "\n",
      "While better than nothing, opening a window or door can end up simply blowing air (and pathogens) around instead of out, he says. It’s better to try to enhance cross-ventilation by opening doors and windows on opposite sides of a room or building so that air moves away from the places where most contamination happens.\n",
      "\n",
      "To assess the safety of a gym, dome or other venue, you can look for clues about how air moves through spaces, Francisco says.\n",
      "\n",
      "AD\n",
      "\n",
      "Older buildings are leakier than new ones and likely better for air flow. Big overhead fans can sweep air away quickly. And large spaces help, especially in newer, tighter buildings. Francisco’s calculations suggest that doubling the height of a ceiling can produce the equivalent of more than double the number of air exchanges when people are in a space for one hour.\n",
      "\n",
      "AD\n",
      "\n",
      "But even the best ventilation won’t counteract the risk of exposure to small particles exhaled by someone breathing hard in your face. That explains outbreaks related to outdoor sports.\n",
      "\n",
      "“If you’re going to be in close proximity to people who are infected, then that’s the biggest problem,” Francisco says. “You’re going to get it before the ventilation could ever act on it.”\n",
      "\n",
      "AD\n",
      "\n",
      "The chances of inhaling infectious particles grow as you spend more time in a space, Francisco says. You are more likely to get infected if you spend all day in a gym than if you spend an hour there. Sharing the space with fewer people also helps.\n",
      "\n",
      "Given those variables, Francisco says that risks are probably lower for a sport such as swimming — done apart from others in a large, well-ventilated space, where people spend less time in close proximity as they swim by each other — than for sports such as basketball, hockey or volleyball that involve close contact in more confined spaces among players who might accidentally spit on one another.\n",
      "\n",
      "AD\n",
      "\n",
      "Coronavirus isn’t the only cause of illness from sports, and past research offers insight into how athletes can pass along infectious diseases. Contact sports such as wrestling, judo, rugby and football are particularly good at spreading skin infections such as methicillin-resistant Staphylococcus aureus, or MRSA; Group A strep; staph aureus; and herpes, says H. Dele Davies, a pediatric infectious diseases consultant and epidemiologist at the University of Nebraska Medical Center in Omaha. He was lead author of a 2017 paper in Pediatrics that offered clinical guidance to pediatricians about managing outbreaks associated with sports.\n",
      "\n",
      "AD\n",
      "\n",
      "Airborne and vaccine-preventable diseases such as chickenpox, measles and influenza can also spread through sports as wide-ranging as gymnastics and skiing, according to the report. Transmission happens through not only physical contact but also gym mats, water bottles and other equipment. Occasionally players come into contact with the bodily fluids of others.\n",
      "\n",
      "Respiratory illnesses aren’t as well-studied as skin infections in the context of sports, but they do happen, says Mary Anne Jackson, an infectious diseases doctor at the University of Missouri at Kansas City and Children’s Mercy Hospital and co-author of the Pediatrics paper.\n",
      "\n",
      "AD\n",
      "\n",
      "Three clusters of influenza occurred at the Salt Lake City Olympics in 2002, striking both athletes and support staff. Visits to the health clinic at the PyeongChang Winter Olympics in 2018 included reports of influenza and norovirus, a highly contagious gastrointestinal illness.\n",
      "\n",
      "AD\n",
      "\n",
      "If avoiding indoor sports means not exercising, that’s a risk, too. Organized sports provide opportunities for movement, social interaction and the life lessons embedded in competition. The benefits of physical activity include improvements in cardiovascular health, sleep, mental health and focus, Carter says. Some evidence suggests that organized activities may help some people stick with exercise.\n",
      "\n",
      "Still, there were already downsides to organized sports before the pandemic. For young people in particular, Carter says, early specialization can lead to burnout and overuse injuries. Now might be a good time for people of all ages to broaden their athletic horizons, she suggests, with less structured or more solo activities such as yoga, hiking, dance or martial arts.\n",
      "\n",
      "AD\n",
      "\n",
      "For those who want to keep playing organized sports indoors as safely as possible, experts recommend looking closely at a team’s policies. Details to consider include mask-wearing, playing in small groups, regular cleaning of surfaces, screening for symptoms and even periodic testing.\n",
      "\n",
      "AD\n",
      "\n",
      "Most national sports have a national governing body with guidelines that can help smaller organizations and families develop and assess protocols, Carter says. The website for USA Hockey has a page of covid-19 resources, as does U.S. Soccer and U.S. Ski and Snowboard.\n",
      "\n",
      "Local case numbers are also important to consider, she says. And ultimately, every athlete and family will have to make decisions based on their tolerance for risk and the underlying health conditions of their close contacts.\n",
      "\n",
      "Assessing risk includes thinking beyond the field of play, Davies says, to the locker room and after-game celebrations in bars, restaurants or homes. And each layer of protection is like a slice of Swiss cheese. No strategy offers perfect protection, but together they can cover a lot of holes to help minimize risk.\n",
      "\n",
      "AD\n",
      "\n",
      "AD\n"
     ]
    }
   ],
   "source": [
    "# Get the article text\n",
    "print(article.text)"
   ]
  },
  {
   "cell_type": "code",
   "execution_count": 8,
   "metadata": {},
   "outputs": [
    {
     "name": "stdout",
     "output_type": "stream",
     "text": [
      "Minnesota, where I live, is on a four-week “pause” that has closed fitness centers and put organized sports on hold.\n",
      "Factors to consider include ventilation, number and proximity of players, adherence to mask-wearing and community rates of infection.\n",
      "ADWhen considering whether to play sports indoors this winter (if they are still happening), one factor to consider is ventilation.\n",
      "ADCoronavirus isn’t the only cause of illness from sports, and past research offers insight into how athletes can pass along infectious diseases.\n",
      "Assessing risk includes thinking beyond the field of play, Davies says, to the locker room and after-game celebrations in bars, restaurants or homes.\n"
     ]
    }
   ],
   "source": [
    "# Get a summary of the article\n",
    "print(article.summary)\n"
   ]
  },
  {
   "cell_type": "code",
   "execution_count": null,
   "metadata": {},
   "outputs": [],
   "source": []
  }
 ],
 "metadata": {
  "kernelspec": {
   "display_name": "Python 3",
   "language": "python",
   "name": "python3"
  },
  "language_info": {
   "codemirror_mode": {
    "name": "ipython",
    "version": 3
   },
   "file_extension": ".py",
   "mimetype": "text/x-python",
   "name": "python",
   "nbconvert_exporter": "python",
   "pygments_lexer": "ipython3",
   "version": "3.7.9"
  }
 },
 "nbformat": 4,
 "nbformat_minor": 4
}
